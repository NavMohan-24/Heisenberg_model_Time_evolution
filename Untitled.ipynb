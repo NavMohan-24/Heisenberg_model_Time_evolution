{
 "cells": [
  {
   "cell_type": "markdown",
   "metadata": {},
   "source": [
    "# Heisenberg model for a 1D chain of spins\n",
    "\n",
    "Let's first start by writing the Heisenberg model for a 1-D spin chain.\n",
    "\n",
    "$$ H = sum J(\\sigma^{i} \\sigma^{j} + sum h(\\sigma^{i}$$\n",
    "\n",
    "One important thing to notice is that the Heisenberg model deals with static spin and the evolution of them at their respective sites. Qubits can be treated as spins and hence the same operations $\\sigma_{z}$ (for a spin) applied for qubits with the gate in the from $Z$. In other words, to implement the Heisenberg model in a quantum computer we do not need to go through transformations from rising and lowering operators to native gates.\n",
    "\n",
    "Another thing we need to know before diving into specific cases is the Hamiltonian evolution\n",
    "\n",
    "Let's start with the Schrodinguer equation\n",
    "\n",
    "$$ i\\hbar \\frac{\\partial|\\psi>}{\\partial t} == H |\\psi>$$\n",
    "\n",
    "Let's take the consideration that the Hamiltonian is time independent, then the solution is\n",
    "\n",
    "$$ |\\psi> = e^{-i\\hbar t H}|\\psi(0)> $$\n",
    "\n",
    "This the solution to the time evolution of a Hamiltonian and that is what we are after\n",
    "\n",
    "To be able to solve it we need to implement quantum gates to the quantum circuit at the initial state $ |\\psi(0)> $\n",
    "\n",
    "In general the Hamiltonian can be written in the from $H = H_{1} + H_{2} + ... $. If hamiltonians $H_{i}$ commute with each other then the next identity holds:\n",
    "\n",
    "$$ e^{H} = e^{H_{1}}e^{H_{2}}e^{H_{3}}...e^{H_{n}}, where H = sum H_{i} $$\n",
    "\n",
    "If the components of the hamiltonian do not commute then we can proceed with the Trotter decomposition\n",
    "\n",
    "$$ e^{H} \\simeq (e^{H_{1}\\Delta M}e^{H_{2}}e^{H_{3}}...e^{H_{n}})^{1/\\Delta M} $$\n",
    "\n",
    "Then we can define a Trotter step by\n",
    "\n",
    "$$ e^{H_{1}\\Delta M}e^{H_{2}}e^{H_{3}}...e^{H_{n}}  $$\n",
    "\n",
    "The Trotter number is defined as $ 1/\\Delta M $, When the Trotter number tends to infinite we get the best accuracy to the approximation. Also, this Trotterization is know as the first oder one and there are higher order Trotterizations.\n",
    "\n",
    "So far this is all we need to do the evolution of the Hamiltonian. Here we are going to write down an algorithm related to the Heisenberg model with nearest neighbors interactions.\n",
    "\n",
    "1. Write down the Hamiltonian in the form of (3).\n",
    "2. If the terms do not commute use Trotterization\n",
    "3. If the terms commute then the exact solution is given by the equation (5)\n",
    "\n",
    "## Case for nearest neighbor interaction off and a magnetic field along the z-direction\n",
    "\n",
    "I will now write the Hamiltonian\n",
    "\n",
    "$$ H = h_{z} sum \\sigma^{i} $$\n",
    "\n",
    "Then lets start with the simplest and trivial case for one spin only\n",
    "\n",
    "$$ H = h_{z} \\sigma^{1}_{z} $$\n",
    "\n",
    "In such a case the solution to the Schrodinguer equation follows\n",
    "\n",
    "$$ |\\psi> = e^{-it H}|\\psi(0)> $$\n",
    "\n",
    "introducing equation (5) to (6) we get that\n",
    "\n",
    "$$ |\\psi> = e^{-it\\hbar h_{z}\\sigma^{1}_{z}}|\\psi(0)> $$\n",
    "\n",
    "Now to implement this in a quantum circuit we need to apply the gate $e^{-it\\hbar h_{z}\\sigma^{1}_{z}} $ to $|\\psi(0)>$. In qiskit we notice that the gate that we need is described as the z-rotation gate\n",
    "\n",
    "$$ R_{z}(\\theta) = e^{-i\\frac{\\theta}{2}\\sigma_{z}}$$, for our case $\\theta = 2t\\hbar h_{z}$\n",
    "\n",
    "It is possible to write down the n-qubits hamiltonian as follows:\n",
    "\n",
    "$$ |\\psi> = e^{-it\\hbar h_{z}sum\\sigma^{i}_{z}}|\\psi(0)> $$\n",
    "\n",
    "Equation # does not require Trotterization and it is the full solution to the problem.\n",
    "\n",
    "We can implement it in qiskit as follows"
   ]
  },
  {
   "cell_type": "code",
   "execution_count": 19,
   "metadata": {},
   "outputs": [
    {
     "data": {
      "image/png": "[encoded data removed]",
      "text/plain": [
       "<Figure size 200.977x204.68 with 1 Axes>"
      ]
     },
     "execution_count": 19,
     "metadata": {},
     "output_type": "execute_result"
    }
   ],
   "source": [
    "# Here we are importing all packages from qiskit\n",
    "from qiskit import *\n",
    "\n",
    "# define the number of qubits\n",
    "num_q = 3\n",
    "# Here create the quantum circuit with one qubit\n",
    "qc = QuantumCircuit(num_q)\n",
    "\n",
    "# Here we apply the Rz gate to the ith-qubit\n",
    "for i in range(num_q):\n",
    "    qc.rz(1,i)\n",
    "\n",
    "# Here we draw the quantum circuit\n",
    "qc.draw(output='mpl')"
   ]
  },
  {
   "cell_type": "markdown",
   "metadata": {},
   "source": [
    "In the previous circuit we have the possiblity to set up n-qubits to run the case of $h_{z}$. The hamiltonians $H_{i} = h_{z}\\sigma^{i}_{z}$ commute with each other so no need to to Trotterization\n",
    "\n",
    "## Case for nearest neighbor interactions turn off and a uniform magnetic field along x-,y-, and z- directions\n",
    "\n",
    "The Hamiltonian for the trivial case for one spin is\n",
    "\n",
    "$$ H = h\\sigma_{x}^{1} + h\\sigma_{y}^{1} + h\\sigma_{z}^{1} $$\n",
    "\n",
    "In such a case the Pauli matrices do not commute with each other, so it is time to use Trotterization to solve approximately this problem.\n",
    "\n",
    "$$ e^{-it\\hbar H} = e^{-it\\hbar (h\\sigma_{x}^{1} + h\\sigma_{y}^{1} + h\\sigma_{z}^{1})} $$\n",
    "\n",
    "After the Trotterization\n",
    "\n",
    "$$ e^{-it\\hbar H} \\simeq (e^{-i\\Delta t \\hbar h \\sigma_{x}^{1}}e^{-i\\Delta t \\hbar h \\sigma_{y}^{1}}e^{-i\\Delta t \\hbar h \\sigma_{z}^{1}})^{t/\\Delta t}$$\n",
    "\n",
    "A Trotter step is the expresion inside the parenthesis for eqution #. The Trotterization of the n-qubit case is\n",
    "\n",
    "$$ e^{-it\\hbar H} \\simeq (e^{-i\\Delta t \\hbar h \\sigma_{x}^{1}}e^{-i\\Delta t \\hbar h \\sigma_{y}^{1}}e^{-i\\Delta t \\hbar h \\sigma_{z}^{1}}e^{-i\\Delta t \\hbar h \\sigma_{x}^{2}}e^{-i\\Delta t \\hbar h \\sigma_{y}^{2}}e^{-i\\Delta t \\hbar h \\sigma_{z}^{2}}...)^{t/\\Delta t}$$\n",
    "\n",
    "Note that the exponential to the Puali matrices are the rotation gates along different axis.\n",
    "\n",
    "We can implement a Trotter step in qiskit as follows"
   ]
  },
  {
   "cell_type": "code",
   "execution_count": 18,
   "metadata": {},
   "outputs": [
    {
     "data": {
      "image/png": "[encoded data removed]",
      "text/plain": [
       "<Figure size 381.577x204.68 with 1 Axes>"
      ]
     },
     "execution_count": 18,
     "metadata": {},
     "output_type": "execute_result"
    }
   ],
   "source": [
    "# define the number of qubits\n",
    "num_q = 3\n",
    "# Here create the quantum circuit with one qubit\n",
    "qc = QuantumCircuit(num_q)\n",
    "\n",
    "# Here we apply the Rz, Rx, and Ry gates to the ith-qubit\n",
    "for i in range(num_q):\n",
    "    qc.rz(1,i)\n",
    "    qc.ry(1,i)\n",
    "    qc.rx(1,i)\n",
    "    \n",
    "qc.barrier()\n",
    "\n",
    "# Here we draw the quantum circuit\n",
    "qc.draw(output='mpl')"
   ]
  },
  {
   "cell_type": "markdown",
   "metadata": {},
   "source": [
    "## Interaction ZZ term turn on and a uniform magnetic field along x-, y-, and z- directions\n",
    "\n",
    "For such a case the 2 spin Hamiltonian goes as follows:\n",
    "\n",
    "$$ H = J(\\sigma^{1}_{z}\\sigma^{2}_{z}) + h(\\sigma^{1}_{x}+\\sigma^{1}_{y}+\\sigma^{1}_{z}) h(\\sigma^{2}_{x}+\\sigma^{2}_{y}+\\sigma^{2}_{z}) $$\n",
    "\n",
    "for which \n",
    "\n",
    "$$ e^{-it\\hbar H} = e^{-it\\hbar (J(\\sigma^{1}_{z}\\sigma^{1}_{z}) + h(\\sigma^{1}_{x}+\\sigma^{1}_{y}+\\sigma^{1}_{z})+h(\\sigma^{2}_{x}+\\sigma^{2}_{y}+\\sigma^{2}_{z}))} $$\n",
    "\n",
    "A Trotter step is\n",
    "\n",
    "$$ e^{-it \\hbar H} \\simeq e^{-i\\Delta t \\hbar J(\\sigma^{1}_{z}\\sigma^{2}_{z})}e^{-i\\Delta t \\hbar h \\sigma^{1}_{x}}e^{-i\\Delta t \\hbar h \\sigma^{1}_{y}}e^{-i\\Delta t \\hbar h \\sigma^{1}_{z}}e^{-i\\Delta t \\hbar h \\sigma^{2}_{x}}e^{-i\\Delta t \\hbar h \\sigma^{2}_{y}}e^{-i\\Delta t \\hbar h \\sigma^{2}_{z}} $$\n",
    "\n",
    "We can use the identity\n",
    "\n",
    "$$ e^{-i\\Delta t \\hbar J\\sigma^{1}_{z}\\sigma^{2}_{z}} = CNOT^{1,2}e^{-i\\Delta t \\hbar J\\sigma^{2}_{z}}CNOT^{1,2} $$\n",
    "\n",
    "An plugging it in the previous equation we end up with\n",
    "\n",
    "$$ e^{-it \\hbar H} \\simeq CNOT^{1,2}e^{-i\\Delta t \\hbar J\\sigma^{2}_{z}}CNOT^{1,2}e^{-i\\Delta t \\hbar h \\sigma^{1}_{x}}e^{-i\\Delta t \\hbar h \\sigma^{1}_{y}}e^{-i\\Delta t \\hbar h \\sigma^{1}_{z}}e^{-i\\Delta t \\hbar h \\sigma^{2}_{x}}e^{-i\\Delta t \\hbar h \\sigma^{2}_{y}}e^{-i\\Delta t \\hbar h \\sigma^{2}_{z}} $$\n",
    "\n",
    "We can generalize this equation to the n-th qubit case as follows (this would a Trotter step)\n",
    "\n",
    "$$ e^{-it \\hbar H} \\simeq product(CNOT^{i,i+1}e^{-i\\Delta t \\hbar J\\sigma^{2}_{z}}CNOT^{i,i+1})product(e^{-i\\Delta t \\hbar h \\sigma^{i}_{x}}e^{-i\\Delta t \\hbar h \\sigma^{i}_{y}}e^{-i\\Delta t \\hbar h \\sigma^{i}_{z}}e^{-i\\Delta t \\hbar h \\sigma^{i+1}_{x}}e^{-i\\Delta t \\hbar h \\sigma^{i+1}_{y}}e^{-i\\Delta t \\hbar h \\sigma^{i+1}_{z}}) $$\n",
    "\n",
    "The implementatio is Qiskit is as follow"
   ]
  },
  {
   "cell_type": "code",
   "execution_count": 26,
   "metadata": {},
   "outputs": [
    {
     "data": {
      "image/png": "[encoded data removed]",
      "text/plain": [
       "<Figure size 923.377x264.88 with 1 Axes>"
      ]
     },
     "execution_count": 26,
     "metadata": {},
     "output_type": "execute_result"
    }
   ],
   "source": [
    "# define the number of qubits\n",
    "num_q = 4\n",
    "# Here create the quantum circuit with one qubit\n",
    "qc = QuantumCircuit(num_q)\n",
    "\n",
    "# Here is the loop that applies the Rz, Rx, and Ry gates to the ith-qubit\n",
    "for i in range(num_q):\n",
    "    qc.rz(1,i)\n",
    "    qc.ry(1,i)\n",
    "    qc.rx(1,i)\n",
    "    \n",
    "for i in range(num_q-1):\n",
    "    qc.cx(i,i+1)\n",
    "    qc.rz(1,i+1)\n",
    "    qc.cx(i,i+1)           \n",
    "    \n",
    "qc.barrier()\n",
    "\n",
    "# Here we draw the quantum circuit\n",
    "qc.draw(output='mpl')"
   ]
  },
  {
   "cell_type": "markdown",
   "metadata": {},
   "source": [
    "We can notice that this specific way of implmenting the gates it is not so efficient because the coupling between 3rd and 4th qubit waits until the coupling of qubit 2nd and 3rd is excuted. We can reduce the circuit depth byt grouping together the odd interactions and the even ones.\n",
    "\n",
    "The Qiskit implementation is as follows"
   ]
  },
  {
   "cell_type": "code",
   "execution_count": 31,
   "metadata": {},
   "outputs": [
    {
     "data": {
      "image/png": "[encoded data removed]",
      "text/plain": [
       "<Figure size 742.777x264.88 with 1 Axes>"
      ]
     },
     "execution_count": 31,
     "metadata": {},
     "output_type": "execute_result"
    }
   ],
   "source": [
    "# define the number of qubits\n",
    "num_q = 4\n",
    "# Here create the quantum circuit with one qubit\n",
    "qc = QuantumCircuit(num_q)\n",
    "\n",
    "# Here is the loop that applies the Rz, Rx, and Ry gates to the ith-qubit\n",
    "for i in range(num_q):\n",
    "    qc.rz(1,i)\n",
    "    qc.ry(1,i)\n",
    "    qc.rx(1,i)\n",
    "    \n",
    "for i in range(num_q-1):\n",
    "    if ((i%2)==0 and (i <= (num_q)-2)):\n",
    "        qc.cx(i,i+1)\n",
    "        qc.rz(1,i+1)\n",
    "        qc.cx(i,i+1)\n",
    "    \n",
    "for i in range(num_q-1):\n",
    "    if ((i%2)==1 and (i <= (num_q)-2)):\n",
    "        qc.cx(i,i+1)\n",
    "        qc.rz(1,i+1)\n",
    "        qc.cx(i,i+1)           \n",
    "    \n",
    "qc.barrier()\n",
    "\n",
    "# Here we draw the quantum circuit\n",
    "qc.draw(output='mpl')"
   ]
  },
  {
   "cell_type": "code",
   "execution_count": null,
   "metadata": {},
   "outputs": [],
   "source": [
    "I will end with the full formula for the Heisenberg model after Trotterization\n",
    "and then I will write the code and it will show in the diagram\n",
    "\n",
    "Then I will say that a way to make it more compact is to use the identities\n",
    "for paper such\n",
    "\n",
    "and then I will write the identity and then show the full code and how it run\n",
    "\n",
    "This is where I want to end, how do I get there?"
   ]
  }
 ],
 "metadata": {
  "kernelspec": {
   "display_name": "Python 3",
   "language": "python",
   "name": "python3"
  },
  "language_info": {
   "codemirror_mode": {
    "name": "ipython",
    "version": 3
   },
   "file_extension": ".py",
   "mimetype": "text/x-python",
   "name": "python",
   "nbconvert_exporter": "python",
   "pygments_lexer": "ipython3",
   "version": "3.7.4"
  }
 },
 "nbformat": 4,
 "nbformat_minor": 2
}
